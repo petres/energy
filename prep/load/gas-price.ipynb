{
 "cells": [
  {
   "cell_type": "code",
   "execution_count": 3,
   "id": "466ba780",
   "metadata": {},
   "outputs": [],
   "source": [
    "import json\n",
    "\n",
    "responseLineFile = \"../data/tmp/gas-price.txt\"\n",
    "outputFile = \"../data/tmp/gas-price.json\""
   ]
  },
  {
   "cell_type": "code",
   "execution_count": 4,
   "id": "6b4ba59d",
   "metadata": {},
   "outputs": [],
   "source": [
    "with open(responseLineFile, 'r') as f:\n",
    "    rawline = f.readlines()[0]\n",
    "rawline = rawline[10:-3]\n",
    "# rawline"
   ]
  },
  {
   "cell_type": "code",
   "execution_count": 5,
   "id": "455095ca",
   "metadata": {},
   "outputs": [],
   "source": [
    "jsonline = rawline.replace(\"\\\\\\\"\", \"\\\"\")\n",
    "jsonline = jsonline.replace(\"\\\\\\\\\\\"\", \"\\\\\\\"\")\n",
    "# jsonline"
   ]
  },
  {
   "cell_type": "code",
   "execution_count": 6,
   "id": "78b88ff0",
   "metadata": {},
   "outputs": [],
   "source": [
    "j = json.loads(jsonline)\n",
    "series = j['values']['ChartPlot']['x']['hc_opts']['series']\n",
    "# series"
   ]
  },
  {
   "cell_type": "code",
   "execution_count": 7,
   "id": "d45cae29",
   "metadata": {},
   "outputs": [],
   "source": [
    "with open(outputFile, 'w') as f:\n",
    "    json.dump(series, f)"
   ]
  },
  {
   "cell_type": "code",
   "execution_count": null,
   "id": "31cf5e82",
   "metadata": {},
   "outputs": [],
   "source": []
  },
  {
   "cell_type": "code",
   "execution_count": null,
   "id": "b2e92ea3",
   "metadata": {},
   "outputs": [],
   "source": []
  }
 ],
 "metadata": {
  "kernelspec": {
   "display_name": "Python 3.10.4 ('energy')",
   "language": "python",
   "name": "python3"
  },
  "language_info": {
   "codemirror_mode": {
    "name": "ipython",
    "version": 3
   },
   "file_extension": ".py",
   "mimetype": "text/x-python",
   "name": "python",
   "nbconvert_exporter": "python",
   "pygments_lexer": "ipython3",
   "version": "3.10.4"
  },
  "vscode": {
   "interpreter": {
    "hash": "c9c1d7290749dc0b74d8c5e95e52af3d21c0e933f66d9466bdcc1cb412742d6a"
   }
  }
 },
 "nbformat": 4,
 "nbformat_minor": 5
}
